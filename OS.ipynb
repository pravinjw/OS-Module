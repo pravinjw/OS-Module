{
 "cells": [
  {
   "cell_type": "markdown",
   "id": "fd0cf984",
   "metadata": {},
   "source": [
    "## OS"
   ]
  },
  {
   "cell_type": "markdown",
   "id": "e807bb30",
   "metadata": {},
   "source": [
    "This library is used to manipulate files in the directory. Some of the important commands which are required in day to day coding are listed below with use cases."
   ]
  },
  {
   "cell_type": "code",
   "execution_count": 1,
   "id": "f3ded48f",
   "metadata": {},
   "outputs": [],
   "source": [
    "import os\n",
    "import numpy as np\n",
    "import pandas as pd"
   ]
  },
  {
   "cell_type": "markdown",
   "id": "f87ec70d",
   "metadata": {},
   "source": [
    "### List files in the directory"
   ]
  },
  {
   "cell_type": "code",
   "execution_count": 2,
   "id": "1aa70d61",
   "metadata": {},
   "outputs": [
    {
     "data": {
      "text/plain": [
       "['.ipynb_checkpoints',\n",
       " '1.xlsx',\n",
       " 'AB Testing',\n",
       " 'Database Connection',\n",
       " 'DL',\n",
       " 'GUI',\n",
       " 'Libraries',\n",
       " 'ML',\n",
       " 'NLP',\n",
       " 'Python',\n",
       " 'Reading two sheets from excel.ipynb',\n",
       " 'Time Series']"
      ]
     },
     "execution_count": 2,
     "metadata": {},
     "output_type": "execute_result"
    }
   ],
   "source": [
    "os.listdir(r\"D:\\Data Science\\Jupyter\\Notes\")"
   ]
  },
  {
   "cell_type": "markdown",
   "id": "247d407a",
   "metadata": {},
   "source": [
    "### Know the current directory"
   ]
  },
  {
   "cell_type": "code",
   "execution_count": 3,
   "id": "07a4f756",
   "metadata": {},
   "outputs": [
    {
     "data": {
      "text/plain": [
       "'D:\\\\Data Science\\\\Jupyter\\\\Notes\\\\Libraries\\\\OS'"
      ]
     },
     "execution_count": 3,
     "metadata": {},
     "output_type": "execute_result"
    }
   ],
   "source": [
    "os.getcwd()"
   ]
  },
  {
   "cell_type": "markdown",
   "id": "bf85782c",
   "metadata": {},
   "source": [
    "### Change current working directory"
   ]
  },
  {
   "cell_type": "code",
   "execution_count": 4,
   "id": "008979df",
   "metadata": {},
   "outputs": [
    {
     "data": {
      "text/plain": [
       "'D:\\\\Data Science\\\\Jupyter\\\\Notes\\\\Libraries'"
      ]
     },
     "execution_count": 4,
     "metadata": {},
     "output_type": "execute_result"
    }
   ],
   "source": [
    "os.chdir(r\"D:\\Data Science\\Jupyter\\Notes\\Libraries\")\n",
    "\n",
    "os.getcwd()"
   ]
  },
  {
   "cell_type": "code",
   "execution_count": 5,
   "id": "9aa96f4e",
   "metadata": {},
   "outputs": [],
   "source": [
    "os.chdir(r\"D:\\Data Science\\Jupyter\\Notes\\Libraries\\OS\")"
   ]
  },
  {
   "cell_type": "markdown",
   "id": "12bfcfae",
   "metadata": {},
   "source": [
    "### Create working directory"
   ]
  },
  {
   "cell_type": "code",
   "execution_count": 6,
   "id": "50667222",
   "metadata": {},
   "outputs": [],
   "source": [
    "os.mkdir(r\"D:\\Data Science\\Jupyter\\Notes\\Libraries\\OS\\fun_folder\")"
   ]
  },
  {
   "cell_type": "markdown",
   "id": "e6436535",
   "metadata": {},
   "source": [
    "### Create working directory recursively\n",
    "\n",
    "This method creates a directory recursively. It means that while creating a leaf directory if any of the intermediate level directories specified in the path is missing then the method creates them all.\n",
    "\n",
    "In following example, PJ and RJ directories are created automatically"
   ]
  },
  {
   "cell_type": "code",
   "execution_count": 7,
   "id": "01d54bfb",
   "metadata": {},
   "outputs": [],
   "source": [
    "os.makedirs(r\"D:\\Data Science\\Jupyter\\Notes\\Libraries\\OS\\fun_folder\\PJ\\RJ\")"
   ]
  },
  {
   "cell_type": "markdown",
   "id": "71277748",
   "metadata": {},
   "source": [
    "### Remove empty directory\n",
    "\n",
    "We need to change path first for deleting the directory"
   ]
  },
  {
   "cell_type": "code",
   "execution_count": 8,
   "id": "891083b9",
   "metadata": {},
   "outputs": [],
   "source": [
    "# os.rmdir()"
   ]
  },
  {
   "cell_type": "markdown",
   "id": "e0aa57da",
   "metadata": {},
   "source": [
    "### Walks through directory---- Imp\n",
    "This method generates the filenames in a directory tree by walking the tree in either a top-down or bottom-up manner. os.walk returns a generator that creates a tuple of values (dirpath, dirnames, filenames)"
   ]
  },
  {
   "cell_type": "code",
   "execution_count": 9,
   "id": "8af1f8f7",
   "metadata": {},
   "outputs": [
    {
     "data": {
      "text/plain": [
       "<generator object _walk at 0x00000183EE0F23C0>"
      ]
     },
     "execution_count": 9,
     "metadata": {},
     "output_type": "execute_result"
    }
   ],
   "source": [
    "os.walk(r\"D:\\Data Science\\Jupyter\\Notes\\Libraries\\OS\\fun_folder\\PJ\\RJ\")"
   ]
  },
  {
   "cell_type": "code",
   "execution_count": 10,
   "id": "145861dc",
   "metadata": {
    "scrolled": true
   },
   "outputs": [
    {
     "name": "stdout",
     "output_type": "stream",
     "text": [
      "D:\\Data Science\\Jupyter\\Notes\\Libraries\\Pandas\n",
      "['.ipynb_checkpoints', 'Crosstab', 'Groupby', 'Joins', 'Pivot table']\n",
      "['Emp_Records.csv', 'movies_data.csv', 'Pandas-I.ipynb', 'Pandas_Ass_10.pdf', 'Pandas_II.ipynb']\n",
      "D:\\Data Science\\Jupyter\\Notes\\Libraries\\Pandas\\.ipynb_checkpoints\n",
      "[]\n",
      "['Pandas-I-checkpoint.ipynb', 'Pandas_II-checkpoint.ipynb']\n",
      "D:\\Data Science\\Jupyter\\Notes\\Libraries\\Pandas\\Crosstab\n",
      "['.ipynb_checkpoints']\n",
      "['Crosstab.ipynb', 'crosstab_cheatsheet.pdf']\n",
      "D:\\Data Science\\Jupyter\\Notes\\Libraries\\Pandas\\Crosstab\\.ipynb_checkpoints\n",
      "[]\n",
      "['Crosstab-checkpoint.ipynb']\n",
      "D:\\Data Science\\Jupyter\\Notes\\Libraries\\Pandas\\Groupby\n",
      "['.ipynb_checkpoints']\n",
      "['Group By codebasics.ipynb', 'Group By.ipynb', 'Groupby.xlsx']\n",
      "D:\\Data Science\\Jupyter\\Notes\\Libraries\\Pandas\\Groupby\\.ipynb_checkpoints\n",
      "[]\n",
      "['Group By codebasics-checkpoint.ipynb', 'Group By-checkpoint.ipynb']\n",
      "D:\\Data Science\\Jupyter\\Notes\\Libraries\\Pandas\\Joins\n",
      "['.ipynb_checkpoints']\n",
      "['Joins.ipynb', 'Joins.xlsx', 'merge.xlsx']\n",
      "D:\\Data Science\\Jupyter\\Notes\\Libraries\\Pandas\\Joins\\.ipynb_checkpoints\n",
      "[]\n",
      "['Joins-checkpoint.ipynb']\n",
      "D:\\Data Science\\Jupyter\\Notes\\Libraries\\Pandas\\Pivot table\n",
      "['.ipynb_checkpoints']\n",
      "['Pivot Table.ipynb', 'salesfunnel.xlsx']\n",
      "D:\\Data Science\\Jupyter\\Notes\\Libraries\\Pandas\\Pivot table\\.ipynb_checkpoints\n",
      "[]\n",
      "['Pivot Table-checkpoint.ipynb']\n"
     ]
    }
   ],
   "source": [
    "for dirpath,dirnames,filenames in os.walk(r\"D:\\Data Science\\Jupyter\\Notes\\Libraries\\Pandas\"):\n",
    "    print(dirpath)\n",
    "    print(dirnames)\n",
    "    print(filenames)"
   ]
  },
  {
   "cell_type": "markdown",
   "id": "dceaf053",
   "metadata": {},
   "source": [
    "### Checks path exist or not\n",
    "\n",
    "This method returns True for existing paths. It returns False for broken symbolic links."
   ]
  },
  {
   "cell_type": "code",
   "execution_count": 11,
   "id": "35d89fd6",
   "metadata": {},
   "outputs": [
    {
     "data": {
      "text/plain": [
       "False"
      ]
     },
     "execution_count": 11,
     "metadata": {},
     "output_type": "execute_result"
    }
   ],
   "source": [
    "path1 = r\"D:\\Data Science\\Jupyter\\Notes\\Libraries\\OS\\fun_folder\\PJ\\RJ\"\n",
    "\n",
    "path2 = r\"D:\\Data Science\\Jupyter\\Notes\\Libraries\\OS\\fun_folder\\PJ\\RJ\\car.xlsx\" # car.xlsx is not present, so return False\n",
    "\n",
    "os.path.exists(path2)"
   ]
  },
  {
   "cell_type": "markdown",
   "id": "b9d870b6",
   "metadata": {},
   "source": [
    "### Normalize the path word case"
   ]
  },
  {
   "cell_type": "code",
   "execution_count": 12,
   "id": "1f616d8c",
   "metadata": {},
   "outputs": [
    {
     "data": {
      "text/plain": [
       "'d:\\\\data science\\\\jupyter\\\\notes\\\\libraries\\\\os\\\\fun_folder\\\\pj\\\\rj'"
      ]
     },
     "execution_count": 12,
     "metadata": {},
     "output_type": "execute_result"
    }
   ],
   "source": [
    "os.path.normcase(r\"D:\\Data Science\\Jupyter\\Notes\\Libraries\\OS\\fun_folder\\PJ\\RJ\") "
   ]
  },
  {
   "cell_type": "markdown",
   "id": "67446e88",
   "metadata": {},
   "source": [
    "### Splits the path\n",
    "This method splits the pathname into a pair of head and tail. Here, the tail is the last pathname component and the head is everything that comes before it. The method returns a tuple of the head and tail of the specified path."
   ]
  },
  {
   "cell_type": "code",
   "execution_count": 13,
   "id": "a37472f3",
   "metadata": {},
   "outputs": [
    {
     "data": {
      "text/plain": [
       "('D:\\\\Data Science\\\\Jupyter\\\\Notes\\\\Libraries\\\\OS\\\\fun_folder\\\\PJ', 'RJ')"
      ]
     },
     "execution_count": 13,
     "metadata": {},
     "output_type": "execute_result"
    }
   ],
   "source": [
    "os.path.split(r\"D:\\Data Science\\Jupyter\\Notes\\Libraries\\OS\\fun_folder\\PJ\\RJ\")"
   ]
  },
  {
   "cell_type": "markdown",
   "id": "f1c70aa2",
   "metadata": {},
   "source": [
    "### Join the path\n",
    "This method joins various path components with exactly one directory separator (“/”) following each non-empty part except for the last path component. If the last path component is empty then a directory separator (“/”) is put at the end. This method returns a string with the concatenated path."
   ]
  },
  {
   "cell_type": "code",
   "execution_count": 14,
   "id": "2873aae6",
   "metadata": {
    "scrolled": true
   },
   "outputs": [
    {
     "data": {
      "text/plain": [
       "'D:\\\\Data Science\\\\Jupyter\\\\Notes\\\\Libraries\\\\OS\\\\fun_folder\\\\PJ\\\\RJ'"
      ]
     },
     "execution_count": 14,
     "metadata": {},
     "output_type": "execute_result"
    }
   ],
   "source": [
    "os.path.join('D:\\\\Data Science\\\\Jupyter\\\\Notes\\\\Libraries\\\\OS\\\\fun_folder\\\\PJ', 'RJ')"
   ]
  },
  {
   "cell_type": "markdown",
   "id": "85ec87ea",
   "metadata": {},
   "source": [
    "### Additional Resource:\n",
    "\n",
    "https://www.analyticsvidhya.com/blog/2021/05/30-useful-methods-from-python-os-module/"
   ]
  }
 ],
 "metadata": {
  "kernelspec": {
   "display_name": "Python 3 (ipykernel)",
   "language": "python",
   "name": "python3"
  },
  "language_info": {
   "codemirror_mode": {
    "name": "ipython",
    "version": 3
   },
   "file_extension": ".py",
   "mimetype": "text/x-python",
   "name": "python",
   "nbconvert_exporter": "python",
   "pygments_lexer": "ipython3",
   "version": "3.9.7"
  }
 },
 "nbformat": 4,
 "nbformat_minor": 5
}
