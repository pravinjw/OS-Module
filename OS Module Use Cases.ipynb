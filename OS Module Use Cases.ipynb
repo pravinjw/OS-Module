{
 "cells": [
  {
   "cell_type": "markdown",
   "id": "69728886",
   "metadata": {},
   "source": [
    "## Use Cases\n"
   ]
  },
  {
   "cell_type": "code",
   "execution_count": 1,
   "id": "7c20dd2a",
   "metadata": {},
   "outputs": [],
   "source": [
    "import numpy as np\n",
    "import pandas as pd\n",
    "import os"
   ]
  },
  {
   "cell_type": "markdown",
   "id": "011daeed",
   "metadata": {},
   "source": [
    "### Use Case:01\n",
    "\n",
    "Use Case: Application of OS module to read one by one file in the directory and append to the dataframe"
   ]
  },
  {
   "cell_type": "code",
   "execution_count": 2,
   "id": "3f729a4a",
   "metadata": {},
   "outputs": [],
   "source": [
    "# create 2 csv files and save them\n",
    "\n",
    "ar1 = np.random.randint(1,5,5)\n",
    "ar2 = np.random.randint(6,10,5)\n",
    "\n",
    "df1 = pd.DataFrame(ar1,columns=['A'])\n",
    "df2 = pd.DataFrame(ar2,columns=['B'])\n",
    "\n",
    "df1.to_csv('df1.csv',index=False)\n",
    "df2.to_csv('df2.csv',index=False)"
   ]
  },
  {
   "cell_type": "code",
   "execution_count": 3,
   "id": "a7d88521",
   "metadata": {},
   "outputs": [
    {
     "data": {
      "text/html": [
       "<div>\n",
       "<style scoped>\n",
       "    .dataframe tbody tr th:only-of-type {\n",
       "        vertical-align: middle;\n",
       "    }\n",
       "\n",
       "    .dataframe tbody tr th {\n",
       "        vertical-align: top;\n",
       "    }\n",
       "\n",
       "    .dataframe thead th {\n",
       "        text-align: right;\n",
       "    }\n",
       "</style>\n",
       "<table border=\"1\" class=\"dataframe\">\n",
       "  <thead>\n",
       "    <tr style=\"text-align: right;\">\n",
       "      <th></th>\n",
       "      <th>A</th>\n",
       "      <th>B</th>\n",
       "    </tr>\n",
       "  </thead>\n",
       "  <tbody>\n",
       "    <tr>\n",
       "      <th>0</th>\n",
       "      <td>2</td>\n",
       "      <td>6</td>\n",
       "    </tr>\n",
       "    <tr>\n",
       "      <th>1</th>\n",
       "      <td>3</td>\n",
       "      <td>8</td>\n",
       "    </tr>\n",
       "    <tr>\n",
       "      <th>2</th>\n",
       "      <td>2</td>\n",
       "      <td>8</td>\n",
       "    </tr>\n",
       "    <tr>\n",
       "      <th>3</th>\n",
       "      <td>2</td>\n",
       "      <td>6</td>\n",
       "    </tr>\n",
       "    <tr>\n",
       "      <th>4</th>\n",
       "      <td>3</td>\n",
       "      <td>7</td>\n",
       "    </tr>\n",
       "  </tbody>\n",
       "</table>\n",
       "</div>"
      ],
      "text/plain": [
       "   A  B\n",
       "0  2  6\n",
       "1  3  8\n",
       "2  2  8\n",
       "3  2  6\n",
       "4  3  7"
      ]
     },
     "execution_count": 3,
     "metadata": {},
     "output_type": "execute_result"
    }
   ],
   "source": [
    "# Read one by one file and append to the new dataframe \n",
    "\n",
    "df3 = pd.DataFrame()\n",
    "\n",
    "for i in os.listdir():\n",
    "    if '.csv' in i:\n",
    "        temp = pd.read_csv(i)\n",
    "        df3 = pd.concat([df3,temp],axis=1)\n",
    "df3"
   ]
  },
  {
   "cell_type": "markdown",
   "id": "62abf855",
   "metadata": {},
   "source": [
    "### Use Case:02\n",
    "\n",
    "Create paths from files stored in given directory and store this path in one list.\n",
    "\n",
    "The path created and stored in the list can be used to read the files"
   ]
  },
  {
   "cell_type": "code",
   "execution_count": 4,
   "id": "850b758c",
   "metadata": {},
   "outputs": [
    {
     "name": "stdout",
     "output_type": "stream",
     "text": [
      "D:\\Car RTO\\CarFrontPhoto.jpg\n",
      "D:\\Car RTO\\CarFrontPhoto1.jpg\n",
      "D:\\Car RTO\\ChasisNumber.jpg\n",
      "D:\\Car RTO\\Document List.jpg\n",
      "D:\\Car RTO\\Engine Number and Chasis No.jpg\n",
      "D:\\Car RTO\\Form 17.jpg\n",
      "D:\\Car RTO\\Form 33.pdf\n",
      "D:\\Car RTO\\Form 35.pdf\n",
      "D:\\Car RTO\\Form35.jpg\n",
      "D:\\Car RTO\\IMG_20230620_233334.jpg\n",
      "D:\\Car RTO\\Insurance.pdf\n",
      "D:\\Car RTO\\New Text Document.txt\n",
      "D:\\Car RTO\\NOC.jpg\n",
      "D:\\Car RTO\\Payment Receipt.pdf\n",
      "D:\\Car RTO\\PUC.jpg\n",
      "D:\\Car RTO\\RC.jpg\n",
      "D:\\Car RTO\\Rent Agreement- II.pdf\n",
      "D:\\Car RTO\\Rent Agreement- III.pdf\n",
      "D:\\Car RTO\\Rent Agreement-I.pdf\n",
      "D:\\Car RTO\\Signature.jpg\n",
      "D:\\Car RTO\\Voter ID - ii.jpeg\n",
      "D:\\Car RTO\\Voter ID-i.jpeg\n",
      "D:\\Car RTO\\Voter ID.docx\n",
      "D:\\Car RTO\\VoterID.pdf\n"
     ]
    },
    {
     "data": {
      "text/plain": [
       "['D:\\\\Car RTO\\\\CarFrontPhoto.jpg',\n",
       " 'D:\\\\Car RTO\\\\CarFrontPhoto1.jpg',\n",
       " 'D:\\\\Car RTO\\\\ChasisNumber.jpg',\n",
       " 'D:\\\\Car RTO\\\\Document List.jpg',\n",
       " 'D:\\\\Car RTO\\\\Engine Number and Chasis No.jpg',\n",
       " 'D:\\\\Car RTO\\\\Form 17.jpg',\n",
       " 'D:\\\\Car RTO\\\\Form 33.pdf',\n",
       " 'D:\\\\Car RTO\\\\Form 35.pdf',\n",
       " 'D:\\\\Car RTO\\\\Form35.jpg',\n",
       " 'D:\\\\Car RTO\\\\IMG_20230620_233334.jpg',\n",
       " 'D:\\\\Car RTO\\\\Insurance.pdf',\n",
       " 'D:\\\\Car RTO\\\\New Text Document.txt',\n",
       " 'D:\\\\Car RTO\\\\NOC.jpg',\n",
       " 'D:\\\\Car RTO\\\\Payment Receipt.pdf',\n",
       " 'D:\\\\Car RTO\\\\PUC.jpg',\n",
       " 'D:\\\\Car RTO\\\\RC.jpg',\n",
       " 'D:\\\\Car RTO\\\\Rent Agreement- II.pdf',\n",
       " 'D:\\\\Car RTO\\\\Rent Agreement- III.pdf',\n",
       " 'D:\\\\Car RTO\\\\Rent Agreement-I.pdf',\n",
       " 'D:\\\\Car RTO\\\\Signature.jpg',\n",
       " 'D:\\\\Car RTO\\\\Voter ID - ii.jpeg',\n",
       " 'D:\\\\Car RTO\\\\Voter ID-i.jpeg',\n",
       " 'D:\\\\Car RTO\\\\Voter ID.docx',\n",
       " 'D:\\\\Car RTO\\\\VoterID.pdf']"
      ]
     },
     "execution_count": 4,
     "metadata": {},
     "output_type": "execute_result"
    }
   ],
   "source": [
    "ls1 = []\n",
    "\n",
    "for path, directory,files in os.walk(r\"D:\\Car RTO\"):\n",
    "#     print(\"Path: \",path)\n",
    "#     print(\"directory: \",directory)\n",
    "#     print(\"files: \",files)\n",
    "    \n",
    "    for item in files:\n",
    "        print(os.path.join(path,item))\n",
    "        \n",
    "        ls1.append(str(os.path.join(path,item)))\n",
    "\n",
    "ls1"
   ]
  },
  {
   "cell_type": "code",
   "execution_count": null,
   "id": "6c724e6e",
   "metadata": {},
   "outputs": [],
   "source": []
  }
 ],
 "metadata": {
  "kernelspec": {
   "display_name": "Python 3 (ipykernel)",
   "language": "python",
   "name": "python3"
  },
  "language_info": {
   "codemirror_mode": {
    "name": "ipython",
    "version": 3
   },
   "file_extension": ".py",
   "mimetype": "text/x-python",
   "name": "python",
   "nbconvert_exporter": "python",
   "pygments_lexer": "ipython3",
   "version": "3.9.7"
  }
 },
 "nbformat": 4,
 "nbformat_minor": 5
}
