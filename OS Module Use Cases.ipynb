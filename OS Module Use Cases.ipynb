{
 "cells": [
  {
   "cell_type": "markdown",
   "id": "556e47f8",
   "metadata": {},
   "source": [
    "## Use Cases\n"
   ]
  },
  {
   "cell_type": "code",
   "execution_count": null,
   "id": "947512d5",
   "metadata": {},
   "outputs": [],
   "source": [
    "import numpy as np\n",
    "import pandas as pd\n",
    "import os"
   ]
  },
  {
   "cell_type": "markdown",
   "id": "d840ff56",
   "metadata": {},
   "source": [
    "### Use Case:01\n",
    "\n",
    "Use Case: Application of OS module to read one by one file in the directory and append to the dataframe"
   ]
  },
  {
   "cell_type": "code",
   "execution_count": null,
   "id": "0dc23780",
   "metadata": {},
   "outputs": [],
   "source": [
    "# create 2 csv files and save them\n",
    "\n",
    "ar1 = np.random.randint(1,5,5)\n",
    "ar2 = np.random.randint(6,10,5)\n",
    "\n",
    "df1 = pd.DataFrame(ar1,columns=['A'])\n",
    "df2 = pd.DataFrame(ar2,columns=['B'])\n",
    "\n",
    "df1.to_csv('df1.csv',index=False)\n",
    "df2.to_csv('df2.csv',index=False)"
   ]
  },
  {
   "cell_type": "code",
   "execution_count": null,
   "id": "4803bdd1",
   "metadata": {},
   "outputs": [],
   "source": [
    "# Read one by one file and append to the new dataframe \n",
    "\n",
    "df3 = pd.DataFrame()\n",
    "\n",
    "for i in os.listdir():\n",
    "    if '.csv' in i:\n",
    "        temp = pd.read_csv(i)\n",
    "        df3 = pd.concat([df3,temp],axis=1)\n",
    "df3"
   ]
  },
  {
   "cell_type": "code",
   "execution_count": null,
   "id": "5da581d5",
   "metadata": {},
   "outputs": [],
   "source": []
  }
 ],
 "metadata": {
  "kernelspec": {
   "display_name": "Python 3 (ipykernel)",
   "language": "python",
   "name": "python3"
  },
  "language_info": {
   "codemirror_mode": {
    "name": "ipython",
    "version": 3
   },
   "file_extension": ".py",
   "mimetype": "text/x-python",
   "name": "python",
   "nbconvert_exporter": "python",
   "pygments_lexer": "ipython3",
   "version": "3.9.7"
  }
 },
 "nbformat": 4,
 "nbformat_minor": 5
}
